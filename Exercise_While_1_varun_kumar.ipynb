{
 "cells": [
  {
   "cell_type": "markdown",
   "id": "f8cb0ef0",
   "metadata": {},
   "source": [
    "Question:0\n",
    "----------\n",
    "Print First 10 natural numbers using while loop"
   ]
  },
  {
   "cell_type": "code",
   "execution_count": 1,
   "id": "4e559249",
   "metadata": {},
   "outputs": [
    {
     "ename": "ModuleNotFoundError",
     "evalue": "No module named 'torch'",
     "output_type": "error",
     "traceback": [
      "\u001b[1;31m---------------------------------------------------------------------------\u001b[0m",
      "\u001b[1;31mModuleNotFoundError\u001b[0m                       Traceback (most recent call last)",
      "Input \u001b[1;32mIn [1]\u001b[0m, in \u001b[0;36m<cell line: 6>\u001b[1;34m()\u001b[0m\n\u001b[0;32m      3\u001b[0m \u001b[38;5;28;01mimport\u001b[39;00m \u001b[38;5;21;01mnumpy\u001b[39;00m \u001b[38;5;28;01mas\u001b[39;00m \u001b[38;5;21;01mnp\u001b[39;00m\n\u001b[0;32m      4\u001b[0m \u001b[38;5;28;01mfrom\u001b[39;00m \u001b[38;5;21;01mPIL\u001b[39;00m \u001b[38;5;28;01mimport\u001b[39;00m Image\n\u001b[1;32m----> 6\u001b[0m \u001b[38;5;28;01mimport\u001b[39;00m \u001b[38;5;21;01mtorch\u001b[39;00m\n\u001b[0;32m      7\u001b[0m \u001b[38;5;28;01mfrom\u001b[39;00m \u001b[38;5;21;01mtorch\u001b[39;00m\u001b[38;5;21;01m.\u001b[39;00m\u001b[38;5;21;01mautograd\u001b[39;00m \u001b[38;5;28;01mimport\u001b[39;00m Variable\n",
      "\u001b[1;31mModuleNotFoundError\u001b[0m: No module named 'torch'"
     ]
    }
   ],
   "source": [
    "import os\n",
    "import argparse\n",
    "import numpy as np\n",
    "from PIL import Image\n",
    "\n",
    "import torch\n",
    "from torch.autograd import Variable"
   ]
  },
  {
   "cell_type": "code",
   "execution_count": null,
   "id": "d85b7c67",
   "metadata": {},
   "outputs": [],
   "source": [
    "parser = argparse.ArgumentParser()\n",
    "parser.add_argument('--network', default='GCANet')\n",
    "parser.add_argument('--task', default='dehaze', help='dehaze | derain')\n",
    "parser.add_argument('--gpu_id', type=int, default=0)\n",
    "parser.add_argument('--indir', default='examples/')\n",
    "parser.add_argument('--outdir', default='output')\n",
    "opt = parser.parse_args()"
   ]
  },
  {
   "cell_type": "code",
   "execution_count": 17,
   "id": "9d0cc118",
   "metadata": {},
   "outputs": [
    {
     "name": "stdout",
     "output_type": "stream",
     "text": [
      "1\n",
      "2\n",
      "3\n",
      "4\n",
      "5\n",
      "6\n",
      "7\n",
      "8\n",
      "9\n",
      "10\n"
     ]
    }
   ],
   "source": [
    "i=0\n",
    "while i<10:\n",
    "    i= i+1\n",
    "    print (i)"
   ]
  },
  {
   "cell_type": "markdown",
   "id": "9fffaa2a",
   "metadata": {},
   "source": [
    "Question:1\n",
    "---------\n",
    "Write a program that accepts sequence of lines as input and prints the lines after making all characters in the sentence capitalized.\n",
    "\n",
    "Suppose the following input is supplied to the program: (multiple times input)\n",
    "     Hello world\n",
    "     Practice makes perfect"
   ]
  },
  {
   "cell_type": "code",
   "execution_count": 5,
   "id": "228957ed",
   "metadata": {},
   "outputs": [
    {
     "name": "stdout",
     "output_type": "stream",
     "text": [
      "HELLO WORLD PRACTICE MAKES PERFECT\n"
     ]
    }
   ],
   "source": [
    "statement= \"Hello world Practice makes perfect\"\n",
    "a=0\n",
    "while a == 0:\n",
    "    a=a+1\n",
    "    print(statement.upper())\n"
   ]
  },
  {
   "cell_type": "markdown",
   "id": "92bddd43",
   "metadata": {},
   "source": [
    "Question:2\n",
    "----------\n",
    "Write a program that computes the net amount of a bank account based a transaction log from console input. The transaction log format is shown as following:\n",
    "D 100\n",
    "W 200\n",
    "\n",
    "D means deposit while W means withdrawal.\n",
    "Suppose the following input is supplied to the program:\n",
    "D 300\n",
    "D 300\n",
    "W 200\n",
    "D 100"
   ]
  },
  {
   "cell_type": "code",
   "execution_count": 9,
   "id": "bf393e71",
   "metadata": {},
   "outputs": [
    {
     "ename": "NameError",
     "evalue": "name 'raw_input' is not defined",
     "output_type": "error",
     "traceback": [
      "\u001b[1;31m---------------------------------------------------------------------------\u001b[0m",
      "\u001b[1;31mNameError\u001b[0m                                 Traceback (most recent call last)",
      "Input \u001b[1;32mIn [9]\u001b[0m, in \u001b[0;36m<cell line: 3>\u001b[1;34m()\u001b[0m\n\u001b[0;32m      1\u001b[0m inputs \u001b[38;5;241m=\u001b[39m []\n\u001b[0;32m      2\u001b[0m \u001b[38;5;28;01mwhile\u001b[39;00m \u001b[38;5;28;01mTrue\u001b[39;00m:\n\u001b[1;32m----> 3\u001b[0m     inp \u001b[38;5;241m=\u001b[39m \u001b[43mraw_input\u001b[49m()\n\u001b[0;32m      4\u001b[0m     \u001b[38;5;28;01mif\u001b[39;00m inp \u001b[38;5;241m==\u001b[39m \u001b[38;5;124m\"\u001b[39m\u001b[38;5;124m\"\u001b[39m:\n\u001b[0;32m      5\u001b[0m         \u001b[38;5;28;01mbreak\u001b[39;00m\n",
      "\u001b[1;31mNameError\u001b[0m: name 'raw_input' is not defined"
     ]
    }
   ],
   "source": [
    "inp = D 300 D 300 W 200 D 100\n",
    "out = 0\n",
    "while True:\n",
    "    inp = raw_input()\n",
    "    if inp == \"D\":\n",
    "        out= out -\n",
    "    inputs.append(int(inp))"
   ]
  },
  {
   "cell_type": "code",
   "execution_count": 16,
   "id": "b0458159",
   "metadata": {},
   "outputs": [
    {
     "ename": "TypeError",
     "evalue": "string indices must be integers",
     "output_type": "error",
     "traceback": [
      "\u001b[1;31m---------------------------------------------------------------------------\u001b[0m",
      "\u001b[1;31mTypeError\u001b[0m                                 Traceback (most recent call last)",
      "Input \u001b[1;32mIn [16]\u001b[0m, in \u001b[0;36m<cell line: 2>\u001b[1;34m()\u001b[0m\n\u001b[0;32m      1\u001b[0m inp \u001b[38;5;241m=\u001b[39m ( \u001b[38;5;124m\"\u001b[39m\u001b[38;5;124mD,300,D, 300, W,200, D ,100\u001b[39m\u001b[38;5;124m\"\u001b[39m)\n\u001b[0;32m      2\u001b[0m \u001b[38;5;28;01mfor\u001b[39;00m i \u001b[38;5;129;01min\u001b[39;00m inp:\n\u001b[1;32m----> 3\u001b[0m     \u001b[38;5;28mprint\u001b[39m(\u001b[43minp\u001b[49m\u001b[43m[\u001b[49m\u001b[43mi\u001b[49m\u001b[43m]\u001b[49m)\n",
      "\u001b[1;31mTypeError\u001b[0m: string indices must be integers"
     ]
    }
   ],
   "source": [
    "inp = ( \"D,300,D, 300, W,200, D ,100\")\n",
    "for i in inp:\n",
    "    print(inp[i])"
   ]
  },
  {
   "cell_type": "code",
   "execution_count": 13,
   "id": "4e9b5709",
   "metadata": {},
   "outputs": [
    {
     "name": "stdout",
     "output_type": "stream",
     "text": [
      "Enter the name: frujxi\n",
      "<class 'str'>\n",
      "frujxi\n"
     ]
    }
   ],
   "source": [
    "val1 = input(\"Enter the name: \")\n",
    "print(type(val1))\n",
    "print(val1)"
   ]
  },
  {
   "cell_type": "code",
   "execution_count": 23,
   "id": "5c91b966",
   "metadata": {},
   "outputs": [
    {
     "name": "stdout",
     "output_type": "stream",
     "text": [
      "15\n"
     ]
    }
   ],
   "source": [
    "# Program to add natural\n",
    "# numbers up to \n",
    "# sum = 1+2+3+...+n\n",
    "sum1 = 0\n",
    "n = 0\n",
    "while n < 5:\n",
    "    n =n+1\n",
    "    sum1 = sum1 + n\n",
    "print(sum1)"
   ]
  },
  {
   "cell_type": "code",
   "execution_count": 12,
   "id": "7d929193",
   "metadata": {},
   "outputs": [
    {
     "name": "stdout",
     "output_type": "stream",
     "text": [
      "98\n",
      "Not Weird\n"
     ]
    }
   ],
   "source": [
    "num = int(input())\n",
    "if num % 2 == 1:\n",
    "    print(\"Weird\")\n",
    "elif num % 2 == 0 and  num in range(2,5):\n",
    "    print(\"Not Weird\")\n",
    "elif num % 2 == 0 and num in range(6,20):\n",
    "    print(\"Weird\")\n",
    "elif num % 2 == 0 and num in range(20,100):\n",
    "    print(\"Not Weird\")"
   ]
  },
  {
   "cell_type": "code",
   "execution_count": 14,
   "id": "bed2fa5c",
   "metadata": {},
   "outputs": [
    {
     "name": "stdout",
     "output_type": "stream",
     "text": [
      "3\n",
      "0\n",
      "1\n",
      "4\n"
     ]
    }
   ],
   "source": [
    "num = int(input())\n",
    "for i in range (0,num):\n",
    "    print(i*i)"
   ]
  },
  {
   "cell_type": "code",
   "execution_count": 36,
   "id": "21029592",
   "metadata": {},
   "outputs": [
    {
     "name": "stdout",
     "output_type": "stream",
     "text": [
      "1500\n"
     ]
    },
    {
     "data": {
      "text/plain": [
       "False"
      ]
     },
     "execution_count": 36,
     "metadata": {},
     "output_type": "execute_result"
    }
   ],
   "source": [
    "def is_leap(year):\n",
    "    leap = True\n",
    "    if (year % 4 ==0):\n",
    "        if (year % 100 == 0):\n",
    "            if (year % 400 == 0):\n",
    "                return  leap\n",
    "            return not leap\n",
    "        return leap\n",
    "    else: \n",
    "        return not leap\n",
    "year = int(input())\n",
    "is_leap(year)"
   ]
  },
  {
   "cell_type": "code",
   "execution_count": 11,
   "id": "719fed85",
   "metadata": {},
   "outputs": [
    {
     "name": "stdout",
     "output_type": "stream",
     "text": [
      "32\n",
      "65\n"
     ]
    },
    {
     "data": {
      "text/plain": [
       "97"
      ]
     },
     "execution_count": 11,
     "metadata": {},
     "output_type": "execute_result"
    }
   ],
   "source": [
    "def add(x,y):\n",
    "    sum= x+y\n",
    "    return sum\n",
    "x= int(input())\n",
    "y= int(input())\n",
    "add(x,y)"
   ]
  },
  {
   "cell_type": "code",
   "execution_count": 14,
   "id": "100d9cd2",
   "metadata": {},
   "outputs": [
    {
     "data": {
      "text/plain": [
       "False"
      ]
     },
     "execution_count": 14,
     "metadata": {},
     "output_type": "execute_result"
    }
   ],
   "source": [
    "leap = True\n",
    "not leap\n"
   ]
  },
  {
   "cell_type": "code",
   "execution_count": 27,
   "id": "562ae7a1",
   "metadata": {},
   "outputs": [
    {
     "name": "stdout",
     "output_type": "stream",
     "text": [
      "1563\n"
     ]
    },
    {
     "data": {
      "text/plain": [
       "<function __main__.is_leap(year)>"
      ]
     },
     "execution_count": 27,
     "metadata": {},
     "output_type": "execute_result"
    }
   ],
   "source": [
    "def is_leap(year):\n",
    "    leap = False\n",
    "    \n",
    "    if (year // 4 == 0 & year // 100 ==0 & year // 400 ==0):\n",
    "        return not leap\n",
    "    elif (year // 4 == 0 & year // 100 ==0 & year // 400 ==0):\n",
    "        return leap\n",
    "\n",
    "year = int(input())\n",
    "is_leap"
   ]
  },
  {
   "cell_type": "code",
   "execution_count": 23,
   "id": "d511cd48",
   "metadata": {},
   "outputs": [
    {
     "name": "stdout",
     "output_type": "stream",
     "text": [
      "2000\n"
     ]
    },
    {
     "data": {
      "text/plain": [
       "<function __main__.is_leap(year)>"
      ]
     },
     "execution_count": 23,
     "metadata": {},
     "output_type": "execute_result"
    }
   ],
   "source": [
    "def is_leap(year):\n",
    "    a= 9\n",
    "    b= 5\n",
    "    if (year // 4 ==0):\n",
    "        return (a+b)\n",
    "    else:\n",
    "        return (a-b)\n",
    "    \n",
    "year = int(input())\n",
    "is_leap"
   ]
  },
  {
   "cell_type": "code",
   "execution_count": 42,
   "id": "dbac0847",
   "metadata": {},
   "outputs": [
    {
     "name": "stdout",
     "output_type": "stream",
     "text": [
      "6\n",
      "123456"
     ]
    }
   ],
   "source": [
    "n = int(input())\n",
    "for i in range (1, n+1):\n",
    "    print (i, end=\"\")"
   ]
  },
  {
   "cell_type": "code",
   "execution_count": 46,
   "id": "a43a6a21",
   "metadata": {},
   "outputs": [
    {
     "name": "stdout",
     "output_type": "stream",
     "text": [
      "177\n",
      "10\n",
      "17\n",
      "7\n",
      "(17, 7)\n"
     ]
    }
   ],
   "source": [
    "a=int(input())\n",
    "b=int(input())\n",
    "div=a//b\n",
    "mod=a%b\n",
    "print(div)\n",
    "print(mod)\n",
    "print((div,mod))"
   ]
  },
  {
   "cell_type": "code",
   "execution_count": 71,
   "id": "eaef1a8b",
   "metadata": {},
   "outputs": [
    {
     "name": "stdout",
     "output_type": "stream",
     "text": [
      "5\n",
      "1\n",
      "22\n",
      "333\n",
      "4444\n",
      "55555\n"
     ]
    }
   ],
   "source": [
    "N=int(input())\n",
    "for i in range (1,N+1):\n",
    "    print(((10**i-1)//9)*i)\n",
    "    "
   ]
  },
  {
   "cell_type": "code",
   "execution_count": 64,
   "id": "c7cdf143",
   "metadata": {},
   "outputs": [
    {
     "name": "stdout",
     "output_type": "stream",
     "text": [
      "4\n",
      "1\n",
      "22\n",
      "333\n"
     ]
    }
   ],
   "source": [
    "N=int(input())\n",
    "for i in range (1,N):\n",
    "    for j in range (1,i+1):\n",
    "        print(i, end=\"\")\n",
    "    print(\"\\r\")\n"
   ]
  },
  {
   "cell_type": "code",
   "execution_count": null,
   "id": "3cd191c2",
   "metadata": {},
   "outputs": [],
   "source": []
  }
 ],
 "metadata": {
  "kernelspec": {
   "display_name": "Python 3 (ipykernel)",
   "language": "python",
   "name": "python3"
  },
  "language_info": {
   "codemirror_mode": {
    "name": "ipython",
    "version": 3
   },
   "file_extension": ".py",
   "mimetype": "text/x-python",
   "name": "python",
   "nbconvert_exporter": "python",
   "pygments_lexer": "ipython3",
   "version": "3.9.12"
  }
 },
 "nbformat": 4,
 "nbformat_minor": 5
}
